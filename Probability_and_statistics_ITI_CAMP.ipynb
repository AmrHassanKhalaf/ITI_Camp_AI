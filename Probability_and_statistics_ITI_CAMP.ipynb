{
  "nbformat": 4,
  "nbformat_minor": 0,
  "metadata": {
    "colab": {
      "provenance": [],
      "authorship_tag": "ABX9TyOZw1hoc5OAovG0HSrSUsOq",
      "include_colab_link": true
    },
    "kernelspec": {
      "name": "python3",
      "display_name": "Python 3"
    },
    "language_info": {
      "name": "python"
    }
  },
  "cells": [
    {
      "cell_type": "markdown",
      "metadata": {
        "id": "view-in-github",
        "colab_type": "text"
      },
      "source": [
        "<a href=\"https://colab.research.google.com/github/AmrHassanKhalaf/ITI_Camp_AI/blob/main/Probability_and_statistics_ITI_CAMP.ipynb\" target=\"_parent\"><img src=\"https://colab.research.google.com/assets/colab-badge.svg\" alt=\"Open In Colab\"/></a>"
      ]
    },
    {
      "cell_type": "code",
      "source": [
        "import numpy as np\n",
        "import random"
      ],
      "metadata": {
        "id": "pPyw5xlV0EEW"
      },
      "execution_count": 1,
      "outputs": []
    },
    {
      "cell_type": "code",
      "execution_count": 2,
      "metadata": {
        "id": "w4mTChTWwcws"
      },
      "outputs": [],
      "source": [
        "ages = [18, 21, 20, 19, 22, 23, 20, 21, 22, 19]"
      ]
    },
    {
      "cell_type": "code",
      "source": [
        "x=len(ages)\n",
        "\n",
        "sm=0\n",
        "for i in range(x):\n",
        "    sm=sm+ages[i]\n",
        "print(sm)\n",
        "\n",
        "mean=sm/x\n",
        "print(mean)"
      ],
      "metadata": {
        "colab": {
          "base_uri": "https://localhost:8080/"
        },
        "id": "4N9K5kxqx2_u",
        "outputId": "241b67f1-e277-4647-96cb-0b23f0b6229d"
      },
      "execution_count": 3,
      "outputs": [
        {
          "output_type": "stream",
          "name": "stdout",
          "text": [
            "205\n",
            "20.5\n"
          ]
        }
      ]
    },
    {
      "cell_type": "markdown",
      "source": [
        "Median Without Sorting Function\n",
        "Generate a list of 15 random integers between 10 and 50.\n",
        "• Find the median manually (without numpy.median()).\n",
        "• Check with NumPy’s median.\n",
        "Range and Data Spread\n",
        "For the same list above, calculate:\n",
        "• Minimum\n",
        "• Maximum\n",
        "• Range (max − min)\n",
        "(Both manually and with NumPy)\n",
        "Variance & Standard Deviation"
      ],
      "metadata": {
        "id": "iOphdT-7yZin"
      }
    },
    {
      "cell_type": "code",
      "source": [
        "# Generate a list of 15 random integers between 10 and 50. find median Without Sorting Function\n",
        "import random\n",
        "randlist = []\n",
        "for i in range(0,15):\n",
        "    n = random.randint(10,50)\n",
        "    randlist.append(n)\n",
        "print(randlist)"
      ],
      "metadata": {
        "colab": {
          "base_uri": "https://localhost:8080/"
        },
        "id": "SulPxe8Fx0wV",
        "outputId": "8cde9e46-8874-4287-a26d-9d968f3aa188"
      },
      "execution_count": 4,
      "outputs": [
        {
          "output_type": "stream",
          "name": "stdout",
          "text": [
            "[38, 31, 11, 13, 49, 12, 11, 12, 42, 25, 46, 41, 25, 43, 36]\n"
          ]
        }
      ]
    },
    {
      "cell_type": "code",
      "source": [
        "for i in range (len(randlist)):\n",
        "    for j in range(i + 1, len(randlist)):\n",
        "        if(randlist[i] > randlist[j]):\n",
        "            temp = randlist[i];\n",
        "            randlist[i] = randlist[j];\n",
        "            randlist[j] = temp\n",
        "print(randlist)"
      ],
      "metadata": {
        "colab": {
          "base_uri": "https://localhost:8080/"
        },
        "id": "al2hacWjzT_t",
        "outputId": "4b6a306e-3010-42f6-f042-b05999be3427"
      },
      "execution_count": 5,
      "outputs": [
        {
          "output_type": "stream",
          "name": "stdout",
          "text": [
            "[11, 11, 12, 12, 13, 25, 25, 31, 36, 38, 41, 42, 43, 46, 49]\n"
          ]
        }
      ]
    },
    {
      "cell_type": "code",
      "source": [
        "# Find the median manually (without numpy.median()).\n",
        "\n",
        "if len(randlist) % 2 == 0:\n",
        "    median1 = randlist[len(randlist)//2]\n",
        "    median2 = randlist[len(randlist)//2 - 1]\n",
        "    median = (median1 + median2)/2\n",
        "else:\n",
        "    median = randlist[len(randlist)//2]\n",
        "print(median)\n",
        "\n",
        "median_value = np.median(randlist)\n",
        "print(median_value)\n"
      ],
      "metadata": {
        "colab": {
          "base_uri": "https://localhost:8080/"
        },
        "id": "aXR1rmSVxsKO",
        "outputId": "4e4dc09c-5db2-466a-ad91-5059f41a8f7f"
      },
      "execution_count": 6,
      "outputs": [
        {
          "output_type": "stream",
          "name": "stdout",
          "text": [
            "31\n",
            "31.0\n"
          ]
        }
      ]
    },
    {
      "cell_type": "code",
      "source": [
        "print(max(randlist))\n",
        "print(min(randlist))\n",
        "\n",
        "rane=max(randlist)-min(randlist)\n",
        "print(range)"
      ],
      "metadata": {
        "colab": {
          "base_uri": "https://localhost:8080/"
        },
        "id": "oi86r6hj006V",
        "outputId": "df46bd5e-3477-45f3-8376-caff44d73048"
      },
      "execution_count": 7,
      "outputs": [
        {
          "output_type": "stream",
          "name": "stdout",
          "text": [
            "49\n",
            "11\n",
            "<class 'range'>\n"
          ]
        }
      ]
    },
    {
      "cell_type": "code",
      "source": [
        "data = [5,7,3,7,9,10,15,7]"
      ],
      "metadata": {
        "id": "aM_uG4wJ1MLt"
      },
      "execution_count": 8,
      "outputs": []
    },
    {
      "cell_type": "code",
      "source": [
        "print(len(data))"
      ],
      "metadata": {
        "colab": {
          "base_uri": "https://localhost:8080/"
        },
        "id": "qX5rCEys7Bmk",
        "outputId": "47afa760-644f-4227-f1e3-2bc97c2264ae"
      },
      "execution_count": 9,
      "outputs": [
        {
          "output_type": "stream",
          "name": "stdout",
          "text": [
            "8\n"
          ]
        }
      ]
    },
    {
      "cell_type": "markdown",
      "source": [
        "σ2=n∑(xi​−μ)2​"
      ],
      "metadata": {
        "id": "fRYsEIiW28ID"
      }
    },
    {
      "cell_type": "code",
      "source": [
        "sm=0\n",
        "for i in range(len(data)):\n",
        "    sm=sm+data[i]\n",
        "print(sm)\n",
        "\n",
        "mean=sm/len(data)\n",
        "print(mean)\n",
        "\n",
        "sm=0\n",
        "for i in range(len(data)):\n",
        "  x=(data[i]-mean)\n",
        "  x=pow(x,2)\n",
        "  sm=sm+x\n",
        "print(sm)\n",
        "\n",
        "variance=sm/len(data)\n",
        "print(variance)\n",
        "\n",
        "\n",
        "print(\"Variance (numpy):\", np.var(data))"
      ],
      "metadata": {
        "colab": {
          "base_uri": "https://localhost:8080/"
        },
        "id": "4xS_u16-zlYT",
        "outputId": "826b23a8-10ea-4346-eca1-b8c95c8a6c37"
      },
      "execution_count": 10,
      "outputs": [
        {
          "output_type": "stream",
          "name": "stdout",
          "text": [
            "63\n",
            "7.875\n",
            "90.875\n",
            "11.359375\n",
            "Variance (numpy): 11.359375\n"
          ]
        }
      ]
    },
    {
      "cell_type": "code",
      "source": [
        "std_dev = variance ** 0.5\n",
        "print(std_dev)\n",
        "print(\"Standard Deviation (numpy):\", np.std(data))"
      ],
      "metadata": {
        "colab": {
          "base_uri": "https://localhost:8080/"
        },
        "id": "F6Asg9Ko4HaC",
        "outputId": "62b17279-b625-49e5-839b-ff905244975d"
      },
      "execution_count": 11,
      "outputs": [
        {
          "output_type": "stream",
          "name": "stdout",
          "text": [
            "3.370367190678191\n",
            "Standard Deviation (numpy): 3.370367190678191\n"
          ]
        }
      ]
    },
    {
      "cell_type": "code",
      "source": [
        "Q_1=np.percentile(data,25)"
      ],
      "metadata": {
        "id": "Lq8YfuNp3dud"
      },
      "execution_count": 12,
      "outputs": []
    },
    {
      "cell_type": "code",
      "source": [
        "Q_2=np.percentile(data,50)"
      ],
      "metadata": {
        "id": "raSzYRwk5Xyy"
      },
      "execution_count": 13,
      "outputs": []
    },
    {
      "cell_type": "code",
      "source": [
        "Q_3=np.percentile(data,75)"
      ],
      "metadata": {
        "id": "-uNYZG1Y5Zvo"
      },
      "execution_count": 14,
      "outputs": []
    },
    {
      "cell_type": "code",
      "source": [
        "IQR=Q_3-Q_1\n",
        "IQR"
      ],
      "metadata": {
        "colab": {
          "base_uri": "https://localhost:8080/"
        },
        "id": "hEnw41Ue12Ar",
        "outputId": "680ce124-0463-4c5f-c0c1-19f3884ec08f"
      },
      "execution_count": 15,
      "outputs": [
        {
          "output_type": "execute_result",
          "data": {
            "text/plain": [
              "np.float64(2.75)"
            ]
          },
          "metadata": {},
          "execution_count": 15
        }
      ]
    },
    {
      "cell_type": "code",
      "source": [
        "data=[10,20,30,40,50,60]"
      ],
      "metadata": {
        "id": "qQ1vm9G76JI0"
      },
      "execution_count": 16,
      "outputs": []
    },
    {
      "cell_type": "code",
      "source": [
        "mean = sum(data) / len(data)\n",
        "std = (sum([(x - mean) ** 2 for x in data]) / len(data)) ** 0.5\n",
        "z_scores = [(x - mean) / std for x in data]"
      ],
      "metadata": {
        "id": "QNKvWgGz5w6k"
      },
      "execution_count": 17,
      "outputs": []
    },
    {
      "cell_type": "code",
      "source": [
        "z_scores"
      ],
      "metadata": {
        "colab": {
          "base_uri": "https://localhost:8080/"
        },
        "id": "HnrJf05m6NNT",
        "outputId": "d0b9d91f-fcf6-445c-bea0-8797fcb7f377"
      },
      "execution_count": 18,
      "outputs": [
        {
          "output_type": "execute_result",
          "data": {
            "text/plain": [
              "[-1.4638501094227996,\n",
              " -0.8783100656536798,\n",
              " -0.2927700218845599,\n",
              " 0.2927700218845599,\n",
              " 0.8783100656536798,\n",
              " 1.4638501094227996]"
            ]
          },
          "metadata": {},
          "execution_count": 18
        }
      ]
    },
    {
      "cell_type": "code",
      "source": [
        "data = [random.randint(1, 100) for _ in range(20)]\n",
        "moving_avg_manual = [sum(data[i:i+3])/3 for i in range(len(data)-2)]\n",
        "moving_avg_numpy = np.convolve(data, np.ones(3)/3, mode='valid')\n",
        "print(\"Data:\", data)\n",
        "print(\"Moving Average (manual):\", moving_avg_manual)\n",
        "print(\"Moving Average (numpy):\", moving_avg_numpy.tolist())\n"
      ],
      "metadata": {
        "colab": {
          "base_uri": "https://localhost:8080/"
        },
        "id": "Qd8BUPx76OXe",
        "outputId": "fca07ffe-f6e4-4ec5-83fb-71fd552a0542"
      },
      "execution_count": 19,
      "outputs": [
        {
          "output_type": "stream",
          "name": "stdout",
          "text": [
            "Data: [68, 19, 54, 72, 54, 28, 83, 23, 88, 93, 22, 16, 77, 19, 90, 81, 96, 52, 62, 23]\n",
            "Moving Average (manual): [47.0, 48.333333333333336, 60.0, 51.333333333333336, 55.0, 44.666666666666664, 64.66666666666667, 68.0, 67.66666666666667, 43.666666666666664, 38.333333333333336, 37.333333333333336, 62.0, 63.333333333333336, 89.0, 76.33333333333333, 70.0, 45.666666666666664]\n",
            "Moving Average (numpy): [47.0, 48.33333333333333, 60.0, 51.33333333333333, 55.0, 44.666666666666664, 64.66666666666666, 68.0, 67.66666666666666, 43.66666666666667, 38.33333333333333, 37.33333333333333, 62.0, 63.333333333333336, 89.0, 76.33333333333333, 70.0, 45.666666666666664]\n"
          ]
        }
      ]
    },
    {
      "cell_type": "code",
      "source": [
        "data = list(range(1, 26)) + [300, 400]\n",
        "\n",
        "Q1 = np.percentile(data, 25)\n",
        "Q3 = np.percentile(data, 75)\n",
        "IQR = Q3 - Q1\n",
        "\n",
        "lower_bound = Q1 - 1.5 * IQR\n",
        "upper_bound = Q3 + 1.5 * IQR\n",
        "\n",
        "outliers = [x for x in data if x < lower_bound or x > upper_bound]\n",
        "\n",
        "print(\"Data:\", data)\n",
        "print(\"Q1:\", Q1, \"Q3:\", Q3, \"IQR:\", IQR)\n",
        "print(\"Lower Bound:\", lower_bound, \"Upper Bound:\", upper_bound)\n",
        "print(\"Outliers Detected:\", outliers)"
      ],
      "metadata": {
        "colab": {
          "base_uri": "https://localhost:8080/"
        },
        "id": "Ucv2FyBn6ZQq",
        "outputId": "02496756-40fe-48e0-bb8a-74bce0916252"
      },
      "execution_count": 20,
      "outputs": [
        {
          "output_type": "stream",
          "name": "stdout",
          "text": [
            "Data: [1, 2, 3, 4, 5, 6, 7, 8, 9, 10, 11, 12, 13, 14, 15, 16, 17, 18, 19, 20, 21, 22, 23, 24, 25, 300, 400]\n",
            "Q1: 7.5 Q3: 20.5 IQR: 13.0\n",
            "Lower Bound: -12.0 Upper Bound: 40.0\n",
            "Outliers Detected: [300, 400]\n"
          ]
        }
      ]
    }
  ]
}
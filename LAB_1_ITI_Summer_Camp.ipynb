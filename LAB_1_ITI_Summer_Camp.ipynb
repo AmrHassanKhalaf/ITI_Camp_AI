{
  "nbformat": 4,
  "nbformat_minor": 0,
  "metadata": {
    "colab": {
      "provenance": [],
      "authorship_tag": "ABX9TyNHkpVt88XsZ3MWohclyFCG",
      "include_colab_link": true
    },
    "kernelspec": {
      "name": "python3",
      "display_name": "Python 3"
    },
    "language_info": {
      "name": "python"
    }
  },
  "cells": [
    {
      "cell_type": "markdown",
      "metadata": {
        "id": "view-in-github",
        "colab_type": "text"
      },
      "source": [
        "<a href=\"https://colab.research.google.com/github/AmrHassanKhalaf/ITI_Camp_AI/blob/main/LAB_1_ITI_Summer_Camp.ipynb\" target=\"_parent\"><img src=\"https://colab.research.google.com/assets/colab-badge.svg\" alt=\"Open In Colab\"/></a>"
      ]
    },
    {
      "cell_type": "markdown",
      "source": [
        "## Q_1"
      ],
      "metadata": {
        "id": "X4BYQGq7o9ug"
      }
    },
    {
      "cell_type": "code",
      "source": [
        "num1=3\n",
        "num2=4\n",
        "num3=5\n",
        "\n",
        "a=num1+num2\n",
        "b=num3-num1\n",
        "c=num1*num2+num3\n",
        "d=num1*(num2+num3)\n",
        "e=num3/num1\n",
        "f=num3//num1\n",
        "g=num3%num1\n",
        "print(f\"OUTPUT: {a,b,c,d,e,f,g}\")"
      ],
      "metadata": {
        "colab": {
          "base_uri": "https://localhost:8080/"
        },
        "id": "IsJCGq4-lT4i",
        "outputId": "76a8ad09-01c7-4c25-c0e6-89b0f2a28c3d"
      },
      "execution_count": 7,
      "outputs": [
        {
          "output_type": "stream",
          "name": "stdout",
          "text": [
            "OUTPUT: (7, 2, 17, 27, 1.6666666666666667, 1, 2)\n"
          ]
        }
      ]
    },
    {
      "cell_type": "markdown",
      "source": [
        "## Q_2"
      ],
      "metadata": {
        "id": "M3X18MOlpFm5"
      }
    },
    {
      "cell_type": "code",
      "source": [
        "x=1\n",
        "y=2\n",
        "z=3\n",
        "g=4\n",
        "A=x+y*z/g\n",
        "B=y**z\n",
        "print(f\"OUTPUT: {A,B}\")"
      ],
      "metadata": {
        "colab": {
          "base_uri": "https://localhost:8080/"
        },
        "id": "syDhw6ykmLai",
        "outputId": "d8c113eb-26d8-46ce-9523-d44f158db63b"
      },
      "execution_count": 9,
      "outputs": [
        {
          "output_type": "stream",
          "name": "stdout",
          "text": [
            "OUTPUT: (2.5, 8)\n"
          ]
        }
      ]
    },
    {
      "cell_type": "markdown",
      "source": [
        "## Q_3"
      ],
      "metadata": {
        "id": "CBUh7mYtpG7n"
      }
    },
    {
      "cell_type": "code",
      "source": [
        "str_a=\"Python \"\n",
        "str_b=\"is a \"\n",
        "str_c=\"times fun language \"\n",
        "num=\"1000 \"\n",
        "\n",
        "str_ab=str_a+str_b+num+str_c\n",
        "print(f\"OUTPUT: {str_ab}\")"
      ],
      "metadata": {
        "colab": {
          "base_uri": "https://localhost:8080/"
        },
        "id": "37nJbgHWm3Mn",
        "outputId": "d061ff8e-b42d-4b49-e30f-7be978974810"
      },
      "execution_count": 17,
      "outputs": [
        {
          "output_type": "stream",
          "name": "stdout",
          "text": [
            "OUTPUT: Python is a 1000 times fun language \n"
          ]
        }
      ]
    },
    {
      "cell_type": "code",
      "source": [
        "for i in range(1,10):\n",
        "    print(str_a)"
      ],
      "metadata": {
        "colab": {
          "base_uri": "https://localhost:8080/"
        },
        "id": "jQUHtQMsns0o",
        "outputId": "ccee0294-0dd6-4544-8f39-be80b4300eec"
      },
      "execution_count": 18,
      "outputs": [
        {
          "output_type": "stream",
          "name": "stdout",
          "text": [
            "Python \n",
            "Python \n",
            "Python \n",
            "Python \n",
            "Python \n",
            "Python \n",
            "Python \n",
            "Python \n",
            "Python \n"
          ]
        }
      ]
    },
    {
      "cell_type": "markdown",
      "source": [
        "## Q_4"
      ],
      "metadata": {
        "id": "iKPmFSRjpJj3"
      }
    },
    {
      "cell_type": "code",
      "source": [
        "num_1=-5\n",
        "num_2=3.2\n",
        "num_3=5.7\n",
        "num_4=625\n",
        "\n",
        "a=abs(num_1)\n",
        "b=round(num_2)\n",
        "c=round(num_3)\n",
        "d=pow(num_4,.5)\n",
        "print(f\"OUTPUT: {a,b,c,d}\")"
      ],
      "metadata": {
        "colab": {
          "base_uri": "https://localhost:8080/"
        },
        "id": "t7gLPEGhoCFA",
        "outputId": "36d44d1b-6e1f-4833-ec69-1601b65e5974"
      },
      "execution_count": 21,
      "outputs": [
        {
          "output_type": "stream",
          "name": "stdout",
          "text": [
            "OUTPUT: (5, 3, 6, 25.0)\n"
          ]
        }
      ]
    },
    {
      "cell_type": "markdown",
      "source": [
        "## Q_5"
      ],
      "metadata": {
        "id": "nQfFlIf1tQxc"
      }
    },
    {
      "cell_type": "code",
      "source": [
        "n_1=int(input(\"Enter number_1: \"))\n",
        "n_2=int(input(\"Enter number_2: \"))\n",
        "print(f\"+: {n_1+n_2}\")\n",
        "print(f\"-: {n_1-n_2}\")\n",
        "print(f\"*: {n_1*n_2}\")\n",
        "print(f\"/: {n_1/n_2}\")\n"
      ],
      "metadata": {
        "colab": {
          "base_uri": "https://localhost:8080/"
        },
        "id": "sad2F1RAtPo9",
        "outputId": "78bf7dff-2942-42e1-a16a-9ad0792ead86"
      },
      "execution_count": 37,
      "outputs": [
        {
          "output_type": "stream",
          "name": "stdout",
          "text": [
            "Enter number_1: 5\n",
            "Enter number_2: 4\n",
            "+: 9\n",
            "-: 1\n",
            "*: 20\n",
            "/: 1.25\n"
          ]
        }
      ]
    },
    {
      "cell_type": "markdown",
      "source": [
        "# PDF Q"
      ],
      "metadata": {
        "id": "w28HVpESpgZH"
      }
    },
    {
      "cell_type": "markdown",
      "source": [
        "Odd or Even"
      ],
      "metadata": {
        "id": "B8RvYbEWqR2o"
      }
    },
    {
      "cell_type": "code",
      "source": [
        "A=int(input(\"Enter your number: \"))\n",
        "if A//2==0:\n",
        "  print(\"Even\")\n",
        "else:\n",
        "  print(\"Odd\")"
      ],
      "metadata": {
        "colab": {
          "base_uri": "https://localhost:8080/"
        },
        "id": "er10qAIdo4t4",
        "outputId": "2287c911-03f7-4b90-c25f-9595b61c0ce0"
      },
      "execution_count": 24,
      "outputs": [
        {
          "output_type": "stream",
          "name": "stdout",
          "text": [
            "Enter your number: 5\n",
            "Odd\n"
          ]
        }
      ]
    },
    {
      "cell_type": "markdown",
      "source": [
        "Pass or Fail"
      ],
      "metadata": {
        "id": "feyHcIlCqVSS"
      }
    },
    {
      "cell_type": "code",
      "source": [
        "B=int(input(\"Enter your marks: \"))\n",
        "if B>=50:\n",
        "  print(\"Pass\")\n",
        "else:\n",
        "  print(\"Fail\")"
      ],
      "metadata": {
        "id": "wLvW2dA8qIE-"
      },
      "execution_count": null,
      "outputs": []
    },
    {
      "cell_type": "markdown",
      "source": [
        "Largest of 3 numbers"
      ],
      "metadata": {
        "id": "8LaGo4N9vZkS"
      }
    },
    {
      "cell_type": "code",
      "source": [
        "C=int(input(\"Enter number_1: \"))\n",
        "D=int(input(\"Enter number_2: \"))\n",
        "E=int(input(\"Enter number_3: \"))\n",
        "\n",
        "print(max(C,D,E))\n"
      ],
      "metadata": {
        "colab": {
          "base_uri": "https://localhost:8080/"
        },
        "id": "GjMKYW40qYy8",
        "outputId": "f6d7bc9b-7034-49e6-d26b-8d60a2e20038"
      },
      "execution_count": 25,
      "outputs": [
        {
          "output_type": "stream",
          "name": "stdout",
          "text": [
            "Enter number_1: 4\n",
            "Enter number_2: 8\n",
            "Enter number_3: 9\n",
            "9\n"
          ]
        }
      ]
    },
    {
      "cell_type": "markdown",
      "source": [
        "Counting with for"
      ],
      "metadata": {
        "id": "JWZqW-UIvbpp"
      }
    },
    {
      "cell_type": "code",
      "source": [
        "for i in range(1,11):\n",
        "  print(i)"
      ],
      "metadata": {
        "colab": {
          "base_uri": "https://localhost:8080/"
        },
        "id": "eyhrUEd4q3jA",
        "outputId": "bf72a950-b00e-4e1d-ef13-cb0d4aa5f1d6"
      },
      "execution_count": 27,
      "outputs": [
        {
          "output_type": "stream",
          "name": "stdout",
          "text": [
            "1\n",
            "2\n",
            "3\n",
            "4\n",
            "5\n",
            "6\n",
            "7\n",
            "8\n",
            "9\n",
            "10\n"
          ]
        }
      ]
    },
    {
      "cell_type": "markdown",
      "source": [
        "Grade Calculator"
      ],
      "metadata": {
        "id": "rgMmzh66vfTx"
      }
    },
    {
      "cell_type": "code",
      "source": [
        "x=int(input(\"Enter your Mark: \"))\n",
        "if x>=90:\n",
        "  print(\"A\")\n",
        "elif x>=80:\n",
        "  print(\"B\")\n",
        "elif x>=70:\n",
        "  print(\"C\")\n",
        "elif x>=60:\n",
        "  print(\"D\")\n",
        "else:\n",
        "  print(\"F\")"
      ],
      "metadata": {
        "id": "0Fde-yChq8AO"
      },
      "execution_count": null,
      "outputs": []
    },
    {
      "cell_type": "markdown",
      "source": [
        "Multiplication Table"
      ],
      "metadata": {
        "id": "pvujE8Zqvg77"
      }
    },
    {
      "cell_type": "code",
      "source": [
        "u=int(input(\"Enter your number: \"))\n",
        "\n",
        "for i in range(1,11):\n",
        "  print(f\"{u}*{i}={u*i}\")"
      ],
      "metadata": {
        "colab": {
          "base_uri": "https://localhost:8080/"
        },
        "id": "CVU9KjFrrVqT",
        "outputId": "170468c1-2d51-4148-ab58-8edafb9a31c1"
      },
      "execution_count": 28,
      "outputs": [
        {
          "output_type": "stream",
          "name": "stdout",
          "text": [
            "Enter your number: 2\n",
            "2*1=2\n",
            "2*2=4\n",
            "2*3=6\n",
            "2*4=8\n",
            "2*5=10\n",
            "2*6=12\n",
            "2*7=14\n",
            "2*8=16\n",
            "2*9=18\n",
            "2*10=20\n"
          ]
        }
      ]
    },
    {
      "cell_type": "markdown",
      "source": [
        "Sum of Even Numbers"
      ],
      "metadata": {
        "id": "J8OGT-ZGvkZP"
      }
    },
    {
      "cell_type": "code",
      "source": [
        "Sum=0\n",
        "for i in range(1,51):\n",
        "  if i%2==0:\n",
        "    Sum=Sum+i\n",
        "print(Sum)"
      ],
      "metadata": {
        "colab": {
          "base_uri": "https://localhost:8080/"
        },
        "id": "aTChWobDr05m",
        "outputId": "7ee9d734-1e11-4a46-a661-6fa47114adb2"
      },
      "execution_count": 35,
      "outputs": [
        {
          "output_type": "stream",
          "name": "stdout",
          "text": [
            "650\n"
          ]
        }
      ]
    },
    {
      "cell_type": "markdown",
      "source": [
        "Factorial with while"
      ],
      "metadata": {
        "id": "51x5chaKvm2Z"
      }
    },
    {
      "cell_type": "code",
      "source": [
        "s=int(input(\"Enter your number: \"))\n",
        "i=1\n",
        "fact=1\n",
        "while i<=s:\n",
        "  fact=fact*i\n",
        "  i=i+1\n",
        "print(fact)"
      ],
      "metadata": {
        "colab": {
          "base_uri": "https://localhost:8080/"
        },
        "id": "mxxDfC8pvsFk",
        "outputId": "7464e15c-35a3-42f9-8540-c4b28ae07d7a"
      },
      "execution_count": 38,
      "outputs": [
        {
          "output_type": "stream",
          "name": "stdout",
          "text": [
            "Enter your number: 5\n",
            "120\n"
          ]
        }
      ]
    },
    {
      "cell_type": "code",
      "source": [
        "v=int(input(\"The number need factorial\"))\n",
        "fact=1\n",
        "for i in range(1,v+1):\n",
        "  fact=fact*i\n",
        "print(fact)"
      ],
      "metadata": {
        "colab": {
          "base_uri": "https://localhost:8080/"
        },
        "id": "Z5DZpP8hr-jF",
        "outputId": "bdddda38-de48-4856-d074-7facc70a5297"
      },
      "execution_count": 36,
      "outputs": [
        {
          "output_type": "stream",
          "name": "stdout",
          "text": [
            "The number need factorial5\n",
            "120\n"
          ]
        }
      ]
    },
    {
      "cell_type": "markdown",
      "source": [
        "# py Function"
      ],
      "metadata": {
        "id": "yk_CD0YdxPAM"
      }
    },
    {
      "cell_type": "code",
      "source": [],
      "metadata": {
        "id": "KMl1wUbEs8_t"
      },
      "execution_count": null,
      "outputs": []
    }
  ]
}